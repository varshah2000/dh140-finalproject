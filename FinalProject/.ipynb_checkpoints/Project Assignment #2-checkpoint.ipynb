{
 "cells": [
  {
   "cell_type": "markdown",
   "id": "186916c3-1ab1-44bd-975a-ec73b1db2e75",
   "metadata": {},
   "source": [
    "# Preliminary Project Notebook: Inside the Scooby-Doo Verse"
   ]
  },
  {
   "cell_type": "markdown",
   "id": "4eb32f9e-92e6-4f59-8a2e-2c83d364ae4a",
   "metadata": {},
   "source": [
    "A data analysis project by UCLA Digital Humanities student Varsha Hunter for DH 140."
   ]
  },
  {
   "cell_type": "markdown",
   "id": "cdba3d59-06f5-4dc5-8312-8aed471c1740",
   "metadata": {},
   "source": [
    "## Introduction"
   ]
  },
  {
   "cell_type": "markdown",
   "id": "9c9b35fa-48c0-4fee-8e70-78071c9223a2",
   "metadata": {},
   "source": [
    "This project aims to explore the Scooby-Doo universe and answer some controversial questions about the Gang and their adventures capturing monsters and villains. "
   ]
  },
  {
   "cell_type": "markdown",
   "id": "76738729-10b6-4966-8f9b-415665079b70",
   "metadata": {},
   "source": [
    "### Research Question:"
   ]
  },
  {
   "cell_type": "markdown",
   "id": "4450bdbd-1c21-4247-813b-931d532fc415",
   "metadata": {},
   "source": [
    "#### Who is the strongest link and the weakest link among the Gang? "
   ]
  },
  {
   "cell_type": "markdown",
   "id": "097edd40-4afb-4e6f-9a1d-953260f2d23e",
   "metadata": {},
   "source": [
    "The Scooby-Doo Gang consists of five total members: Fred, Velma, Daphne, Shaggy, and Scooby-Doo. Fans of Scooby-Doo have their favorites for numerous reasons, however many may argue who is the strongest link and who is the weakest link among the gang. Is Velma the strongest because she is the smartest? Or is she the weakest because of her bad eyesight? Or is Fred the strongest due to his leadership qualities? Or is he the weakest because he brings nothing else to the table? This project may bring about controversy because the answer may not be what we expect due to personal opinions. However, we aim to answer this question using different metrics such as: the number of times each character has been captured by a villain, the number of snacks they consume in an episode, the number of villains they've captured themselves, etc. Hopefully after our extensive analysis, we're able to come to a decisive conclusion."
   ]
  },
  {
   "cell_type": "markdown",
   "id": "c4267b88-357c-40f8-b51c-4cea91cbc95b",
   "metadata": {},
   "source": [
    "### Project Scope"
   ]
  },
  {
   "cell_type": "markdown",
   "id": "ef7ae85a-dca7-4d8d-b664-b8819b5985c5",
   "metadata": {},
   "source": [
    "The goal of our project is to answer our research question through several visualizations and statistical analysis. One way we can answer this question is to calculate the frequency of villains each gang member was able to capture throughout time and the frequency of abductions for each gang member. We can visualize these results through a pie chart or bar chart for visual context. As we look further into our data, we hope to create 3-5 visualizations that aid in our answering our research question.     \n",
    "\n",
    "Here are some other questions we can ask & look into as we explore our data: \n",
    "- Which villain in the Scooby-Doo universe is the most formidable?\n",
    "- Is Scooby Snack consumption actually correlated with an improvement in villain captures? Do Scooby Snacks actually help capture villains? \n",
    "- What are the top main motives behind the crimes of villains within the Scooby Verse? \n",
    "- Do male or female individuals make better villains? \n",
    "- Can we predict which scooby doo monsters are real or not given the other existing variables within the dataset?"
   ]
  },
  {
   "cell_type": "markdown",
   "id": "1b9162d8-70ea-45ab-8b7f-497372e3be28",
   "metadata": {},
   "source": [
    "## Looking at the Data  "
   ]
  },
  {
   "cell_type": "markdown",
   "id": "929b94c9-8171-498f-95d4-9e1077b80e9f",
   "metadata": {},
   "source": [
    "The dataset was originally created by plummye and shared on Kaggle. However, I found the dataset in the form of a csv on Data.World. The dataset includes several variables about the characters, villains, ratings, and more for every episode and movie to exist in the Scooby-Doo universe."
   ]
  },
  {
   "cell_type": "markdown",
   "id": "a9711ee9-7766-4370-b316-b3ed23e390ad",
   "metadata": {},
   "source": [
    "Here are some summary statistics on the data: "
   ]
  },
  {
   "cell_type": "code",
   "execution_count": 32,
   "id": "7a8aaec5-502c-4203-b622-806cfc47a775",
   "metadata": {},
   "outputs": [],
   "source": [
    "import pandas as pd \n",
    "import matplotlib.pyplot as plt"
   ]
  },
  {
   "cell_type": "code",
   "execution_count": 4,
   "id": "322c42cf-c8a2-4fdb-bfb1-29b832c05f1f",
   "metadata": {},
   "outputs": [],
   "source": [
    "# Loading the Data\n",
    "scooby_df = pd.read_csv('scoobydoo.csv')"
   ]
  },
  {
   "cell_type": "code",
   "execution_count": 89,
   "id": "cd0fa51d-3a93-4a92-a97b-a14e0e5b6f6c",
   "metadata": {},
   "outputs": [
    {
     "data": {
      "text/html": [
       "<div>\n",
       "<style scoped>\n",
       "    .dataframe tbody tr th:only-of-type {\n",
       "        vertical-align: middle;\n",
       "    }\n",
       "\n",
       "    .dataframe tbody tr th {\n",
       "        vertical-align: top;\n",
       "    }\n",
       "\n",
       "    .dataframe thead th {\n",
       "        text-align: right;\n",
       "    }\n",
       "</style>\n",
       "<table border=\"1\" class=\"dataframe\">\n",
       "  <thead>\n",
       "    <tr style=\"text-align: right;\">\n",
       "      <th></th>\n",
       "      <th>index</th>\n",
       "      <th>series_name</th>\n",
       "      <th>network</th>\n",
       "      <th>season</th>\n",
       "      <th>title</th>\n",
       "      <th>imdb</th>\n",
       "      <th>engagement</th>\n",
       "      <th>date_aired</th>\n",
       "      <th>run_time</th>\n",
       "      <th>format</th>\n",
       "      <th>...</th>\n",
       "      <th>batman</th>\n",
       "      <th>scooby_dum</th>\n",
       "      <th>scrappy_doo</th>\n",
       "      <th>hex_girls</th>\n",
       "      <th>blue_falcon</th>\n",
       "      <th>fred_va</th>\n",
       "      <th>daphnie_va</th>\n",
       "      <th>velma_va</th>\n",
       "      <th>shaggy_va</th>\n",
       "      <th>scooby_va</th>\n",
       "    </tr>\n",
       "  </thead>\n",
       "  <tbody>\n",
       "    <tr>\n",
       "      <th>0</th>\n",
       "      <td>1</td>\n",
       "      <td>Scooby Doo, Where Are You!</td>\n",
       "      <td>CBS</td>\n",
       "      <td>1</td>\n",
       "      <td>What a Night for a Knight</td>\n",
       "      <td>8.1</td>\n",
       "      <td>556.0</td>\n",
       "      <td>1969-09-13</td>\n",
       "      <td>21</td>\n",
       "      <td>TV Series</td>\n",
       "      <td>...</td>\n",
       "      <td>False</td>\n",
       "      <td>False</td>\n",
       "      <td>False</td>\n",
       "      <td>False</td>\n",
       "      <td>False</td>\n",
       "      <td>Frank Welker</td>\n",
       "      <td>Stefanianna Christopherson</td>\n",
       "      <td>Nicole Jaffe</td>\n",
       "      <td>Casey Kasem</td>\n",
       "      <td>Don Messick</td>\n",
       "    </tr>\n",
       "    <tr>\n",
       "      <th>1</th>\n",
       "      <td>2</td>\n",
       "      <td>Scooby Doo, Where Are You!</td>\n",
       "      <td>CBS</td>\n",
       "      <td>1</td>\n",
       "      <td>A Clue for Scooby Doo</td>\n",
       "      <td>8.1</td>\n",
       "      <td>479.0</td>\n",
       "      <td>1969-09-20</td>\n",
       "      <td>22</td>\n",
       "      <td>TV Series</td>\n",
       "      <td>...</td>\n",
       "      <td>False</td>\n",
       "      <td>False</td>\n",
       "      <td>False</td>\n",
       "      <td>False</td>\n",
       "      <td>False</td>\n",
       "      <td>Frank Welker</td>\n",
       "      <td>Stefanianna Christopherson</td>\n",
       "      <td>Nicole Jaffe</td>\n",
       "      <td>Casey Kasem</td>\n",
       "      <td>Don Messick</td>\n",
       "    </tr>\n",
       "    <tr>\n",
       "      <th>2</th>\n",
       "      <td>3</td>\n",
       "      <td>Scooby Doo, Where Are You!</td>\n",
       "      <td>CBS</td>\n",
       "      <td>1</td>\n",
       "      <td>Hassle in the Castle</td>\n",
       "      <td>8.0</td>\n",
       "      <td>455.0</td>\n",
       "      <td>1969-09-27</td>\n",
       "      <td>21</td>\n",
       "      <td>TV Series</td>\n",
       "      <td>...</td>\n",
       "      <td>False</td>\n",
       "      <td>False</td>\n",
       "      <td>False</td>\n",
       "      <td>False</td>\n",
       "      <td>False</td>\n",
       "      <td>Frank Welker</td>\n",
       "      <td>Stefanianna Christopherson</td>\n",
       "      <td>Nicole Jaffe</td>\n",
       "      <td>Casey Kasem</td>\n",
       "      <td>Don Messick</td>\n",
       "    </tr>\n",
       "    <tr>\n",
       "      <th>3</th>\n",
       "      <td>4</td>\n",
       "      <td>Scooby Doo, Where Are You!</td>\n",
       "      <td>CBS</td>\n",
       "      <td>1</td>\n",
       "      <td>Mine Your Own Business</td>\n",
       "      <td>7.8</td>\n",
       "      <td>426.0</td>\n",
       "      <td>1969-10-04</td>\n",
       "      <td>21</td>\n",
       "      <td>TV Series</td>\n",
       "      <td>...</td>\n",
       "      <td>False</td>\n",
       "      <td>False</td>\n",
       "      <td>False</td>\n",
       "      <td>False</td>\n",
       "      <td>False</td>\n",
       "      <td>Frank Welker</td>\n",
       "      <td>Stefanianna Christopherson</td>\n",
       "      <td>Nicole Jaffe</td>\n",
       "      <td>Casey Kasem</td>\n",
       "      <td>Don Messick</td>\n",
       "    </tr>\n",
       "    <tr>\n",
       "      <th>4</th>\n",
       "      <td>5</td>\n",
       "      <td>Scooby Doo, Where Are You!</td>\n",
       "      <td>CBS</td>\n",
       "      <td>1</td>\n",
       "      <td>Decoy for a Dognapper</td>\n",
       "      <td>7.5</td>\n",
       "      <td>391.0</td>\n",
       "      <td>1969-10-11</td>\n",
       "      <td>21</td>\n",
       "      <td>TV Series</td>\n",
       "      <td>...</td>\n",
       "      <td>False</td>\n",
       "      <td>False</td>\n",
       "      <td>False</td>\n",
       "      <td>False</td>\n",
       "      <td>False</td>\n",
       "      <td>Frank Welker</td>\n",
       "      <td>Stefanianna Christopherson</td>\n",
       "      <td>Nicole Jaffe</td>\n",
       "      <td>Casey Kasem</td>\n",
       "      <td>Don Messick</td>\n",
       "    </tr>\n",
       "  </tbody>\n",
       "</table>\n",
       "<p>5 rows × 75 columns</p>\n",
       "</div>"
      ],
      "text/plain": [
       "   index                 series_name network season  \\\n",
       "0      1  Scooby Doo, Where Are You!     CBS      1   \n",
       "1      2  Scooby Doo, Where Are You!     CBS      1   \n",
       "2      3  Scooby Doo, Where Are You!     CBS      1   \n",
       "3      4  Scooby Doo, Where Are You!     CBS      1   \n",
       "4      5  Scooby Doo, Where Are You!     CBS      1   \n",
       "\n",
       "                       title  imdb  engagement  date_aired  run_time  \\\n",
       "0  What a Night for a Knight   8.1       556.0  1969-09-13        21   \n",
       "1      A Clue for Scooby Doo   8.1       479.0  1969-09-20        22   \n",
       "2       Hassle in the Castle   8.0       455.0  1969-09-27        21   \n",
       "3     Mine Your Own Business   7.8       426.0  1969-10-04        21   \n",
       "4      Decoy for a Dognapper   7.5       391.0  1969-10-11        21   \n",
       "\n",
       "      format  ... batman scooby_dum scrappy_doo hex_girls blue_falcon  \\\n",
       "0  TV Series  ...  False      False       False     False       False   \n",
       "1  TV Series  ...  False      False       False     False       False   \n",
       "2  TV Series  ...  False      False       False     False       False   \n",
       "3  TV Series  ...  False      False       False     False       False   \n",
       "4  TV Series  ...  False      False       False     False       False   \n",
       "\n",
       "        fred_va                  daphnie_va      velma_va    shaggy_va  \\\n",
       "0  Frank Welker  Stefanianna Christopherson  Nicole Jaffe  Casey Kasem   \n",
       "1  Frank Welker  Stefanianna Christopherson  Nicole Jaffe  Casey Kasem   \n",
       "2  Frank Welker  Stefanianna Christopherson  Nicole Jaffe  Casey Kasem   \n",
       "3  Frank Welker  Stefanianna Christopherson  Nicole Jaffe  Casey Kasem   \n",
       "4  Frank Welker  Stefanianna Christopherson  Nicole Jaffe  Casey Kasem   \n",
       "\n",
       "     scooby_va  \n",
       "0  Don Messick  \n",
       "1  Don Messick  \n",
       "2  Don Messick  \n",
       "3  Don Messick  \n",
       "4  Don Messick  \n",
       "\n",
       "[5 rows x 75 columns]"
      ]
     },
     "execution_count": 89,
     "metadata": {},
     "output_type": "execute_result"
    }
   ],
   "source": [
    "# Preview of the Data\n",
    "scooby_df.head(5)"
   ]
  },
  {
   "cell_type": "code",
   "execution_count": 35,
   "id": "fa91feed-6c4c-4413-a718-68b7f1b999bd",
   "metadata": {},
   "outputs": [
    {
     "data": {
      "text/html": [
       "<div>\n",
       "<style scoped>\n",
       "    .dataframe tbody tr th:only-of-type {\n",
       "        vertical-align: middle;\n",
       "    }\n",
       "\n",
       "    .dataframe tbody tr th {\n",
       "        vertical-align: top;\n",
       "    }\n",
       "\n",
       "    .dataframe thead th {\n",
       "        text-align: right;\n",
       "    }\n",
       "</style>\n",
       "<table border=\"1\" class=\"dataframe\">\n",
       "  <thead>\n",
       "    <tr style=\"text-align: right;\">\n",
       "      <th></th>\n",
       "      <th>index</th>\n",
       "      <th>imdb</th>\n",
       "      <th>engagement</th>\n",
       "      <th>run_time</th>\n",
       "      <th>monster_amount</th>\n",
       "      <th>suspects_amount</th>\n",
       "      <th>culprit_amount</th>\n",
       "      <th>split_up</th>\n",
       "      <th>another_mystery</th>\n",
       "      <th>set_a_trap</th>\n",
       "      <th>jeepers</th>\n",
       "      <th>jinkies</th>\n",
       "      <th>my_glasses</th>\n",
       "      <th>just_about_wrapped_up</th>\n",
       "      <th>zoinks</th>\n",
       "      <th>groovy</th>\n",
       "      <th>scooby_doo_where_are_you</th>\n",
       "      <th>rooby_rooby_roo</th>\n",
       "    </tr>\n",
       "  </thead>\n",
       "  <tbody>\n",
       "    <tr>\n",
       "      <th>count</th>\n",
       "      <td>603.000000</td>\n",
       "      <td>588.000000</td>\n",
       "      <td>588.000000</td>\n",
       "      <td>603.000000</td>\n",
       "      <td>603.000000</td>\n",
       "      <td>603.000000</td>\n",
       "      <td>603.000000</td>\n",
       "      <td>384.000000</td>\n",
       "      <td>384.000000</td>\n",
       "      <td>384.000000</td>\n",
       "      <td>438.000000</td>\n",
       "      <td>385.000000</td>\n",
       "      <td>385.000000</td>\n",
       "      <td>385.000000</td>\n",
       "      <td>571.000000</td>\n",
       "      <td>571.000000</td>\n",
       "      <td>571.000000</td>\n",
       "      <td>575.000000</td>\n",
       "    </tr>\n",
       "    <tr>\n",
       "      <th>mean</th>\n",
       "      <td>302.000000</td>\n",
       "      <td>7.277891</td>\n",
       "      <td>580.329932</td>\n",
       "      <td>23.520730</td>\n",
       "      <td>1.749585</td>\n",
       "      <td>2.850746</td>\n",
       "      <td>1.039801</td>\n",
       "      <td>0.335938</td>\n",
       "      <td>0.177083</td>\n",
       "      <td>0.122396</td>\n",
       "      <td>0.563927</td>\n",
       "      <td>1.306494</td>\n",
       "      <td>0.116883</td>\n",
       "      <td>0.051948</td>\n",
       "      <td>2.152364</td>\n",
       "      <td>0.059545</td>\n",
       "      <td>0.133100</td>\n",
       "      <td>0.718261</td>\n",
       "    </tr>\n",
       "    <tr>\n",
       "      <th>std</th>\n",
       "      <td>174.215384</td>\n",
       "      <td>0.732493</td>\n",
       "      <td>4807.924225</td>\n",
       "      <td>17.207571</td>\n",
       "      <td>2.289361</td>\n",
       "      <td>2.616891</td>\n",
       "      <td>1.066747</td>\n",
       "      <td>0.549541</td>\n",
       "      <td>0.414988</td>\n",
       "      <td>0.336032</td>\n",
       "      <td>1.304551</td>\n",
       "      <td>1.916101</td>\n",
       "      <td>0.337501</td>\n",
       "      <td>0.222211</td>\n",
       "      <td>2.731796</td>\n",
       "      <td>0.621226</td>\n",
       "      <td>0.422782</td>\n",
       "      <td>0.794535</td>\n",
       "    </tr>\n",
       "    <tr>\n",
       "      <th>min</th>\n",
       "      <td>1.000000</td>\n",
       "      <td>4.200000</td>\n",
       "      <td>7.000000</td>\n",
       "      <td>4.000000</td>\n",
       "      <td>0.000000</td>\n",
       "      <td>0.000000</td>\n",
       "      <td>0.000000</td>\n",
       "      <td>0.000000</td>\n",
       "      <td>0.000000</td>\n",
       "      <td>0.000000</td>\n",
       "      <td>0.000000</td>\n",
       "      <td>0.000000</td>\n",
       "      <td>0.000000</td>\n",
       "      <td>0.000000</td>\n",
       "      <td>0.000000</td>\n",
       "      <td>0.000000</td>\n",
       "      <td>0.000000</td>\n",
       "      <td>0.000000</td>\n",
       "    </tr>\n",
       "    <tr>\n",
       "      <th>25%</th>\n",
       "      <td>151.500000</td>\n",
       "      <td>6.900000</td>\n",
       "      <td>27.000000</td>\n",
       "      <td>12.000000</td>\n",
       "      <td>1.000000</td>\n",
       "      <td>1.000000</td>\n",
       "      <td>0.000000</td>\n",
       "      <td>0.000000</td>\n",
       "      <td>0.000000</td>\n",
       "      <td>0.000000</td>\n",
       "      <td>0.000000</td>\n",
       "      <td>0.000000</td>\n",
       "      <td>0.000000</td>\n",
       "      <td>0.000000</td>\n",
       "      <td>0.000000</td>\n",
       "      <td>0.000000</td>\n",
       "      <td>0.000000</td>\n",
       "      <td>0.000000</td>\n",
       "    </tr>\n",
       "    <tr>\n",
       "      <th>50%</th>\n",
       "      <td>302.000000</td>\n",
       "      <td>7.300000</td>\n",
       "      <td>54.500000</td>\n",
       "      <td>22.000000</td>\n",
       "      <td>1.000000</td>\n",
       "      <td>3.000000</td>\n",
       "      <td>1.000000</td>\n",
       "      <td>0.000000</td>\n",
       "      <td>0.000000</td>\n",
       "      <td>0.000000</td>\n",
       "      <td>0.000000</td>\n",
       "      <td>1.000000</td>\n",
       "      <td>0.000000</td>\n",
       "      <td>0.000000</td>\n",
       "      <td>1.000000</td>\n",
       "      <td>0.000000</td>\n",
       "      <td>0.000000</td>\n",
       "      <td>1.000000</td>\n",
       "    </tr>\n",
       "    <tr>\n",
       "      <th>75%</th>\n",
       "      <td>452.500000</td>\n",
       "      <td>7.700000</td>\n",
       "      <td>128.250000</td>\n",
       "      <td>23.000000</td>\n",
       "      <td>2.000000</td>\n",
       "      <td>4.000000</td>\n",
       "      <td>1.000000</td>\n",
       "      <td>1.000000</td>\n",
       "      <td>0.000000</td>\n",
       "      <td>0.000000</td>\n",
       "      <td>1.000000</td>\n",
       "      <td>2.000000</td>\n",
       "      <td>0.000000</td>\n",
       "      <td>0.000000</td>\n",
       "      <td>3.000000</td>\n",
       "      <td>0.000000</td>\n",
       "      <td>0.000000</td>\n",
       "      <td>1.000000</td>\n",
       "    </tr>\n",
       "    <tr>\n",
       "      <th>max</th>\n",
       "      <td>603.000000</td>\n",
       "      <td>9.600000</td>\n",
       "      <td>100951.000000</td>\n",
       "      <td>94.000000</td>\n",
       "      <td>19.000000</td>\n",
       "      <td>20.000000</td>\n",
       "      <td>11.000000</td>\n",
       "      <td>2.000000</td>\n",
       "      <td>3.000000</td>\n",
       "      <td>2.000000</td>\n",
       "      <td>10.000000</td>\n",
       "      <td>13.000000</td>\n",
       "      <td>2.000000</td>\n",
       "      <td>1.000000</td>\n",
       "      <td>26.000000</td>\n",
       "      <td>14.000000</td>\n",
       "      <td>4.000000</td>\n",
       "      <td>7.000000</td>\n",
       "    </tr>\n",
       "  </tbody>\n",
       "</table>\n",
       "</div>"
      ],
      "text/plain": [
       "            index        imdb     engagement    run_time  monster_amount  \\\n",
       "count  603.000000  588.000000     588.000000  603.000000      603.000000   \n",
       "mean   302.000000    7.277891     580.329932   23.520730        1.749585   \n",
       "std    174.215384    0.732493    4807.924225   17.207571        2.289361   \n",
       "min      1.000000    4.200000       7.000000    4.000000        0.000000   \n",
       "25%    151.500000    6.900000      27.000000   12.000000        1.000000   \n",
       "50%    302.000000    7.300000      54.500000   22.000000        1.000000   \n",
       "75%    452.500000    7.700000     128.250000   23.000000        2.000000   \n",
       "max    603.000000    9.600000  100951.000000   94.000000       19.000000   \n",
       "\n",
       "       suspects_amount  culprit_amount    split_up  another_mystery  \\\n",
       "count       603.000000      603.000000  384.000000       384.000000   \n",
       "mean          2.850746        1.039801    0.335938         0.177083   \n",
       "std           2.616891        1.066747    0.549541         0.414988   \n",
       "min           0.000000        0.000000    0.000000         0.000000   \n",
       "25%           1.000000        0.000000    0.000000         0.000000   \n",
       "50%           3.000000        1.000000    0.000000         0.000000   \n",
       "75%           4.000000        1.000000    1.000000         0.000000   \n",
       "max          20.000000       11.000000    2.000000         3.000000   \n",
       "\n",
       "       set_a_trap     jeepers     jinkies  my_glasses  just_about_wrapped_up  \\\n",
       "count  384.000000  438.000000  385.000000  385.000000             385.000000   \n",
       "mean     0.122396    0.563927    1.306494    0.116883               0.051948   \n",
       "std      0.336032    1.304551    1.916101    0.337501               0.222211   \n",
       "min      0.000000    0.000000    0.000000    0.000000               0.000000   \n",
       "25%      0.000000    0.000000    0.000000    0.000000               0.000000   \n",
       "50%      0.000000    0.000000    1.000000    0.000000               0.000000   \n",
       "75%      0.000000    1.000000    2.000000    0.000000               0.000000   \n",
       "max      2.000000   10.000000   13.000000    2.000000               1.000000   \n",
       "\n",
       "           zoinks      groovy  scooby_doo_where_are_you  rooby_rooby_roo  \n",
       "count  571.000000  571.000000                571.000000       575.000000  \n",
       "mean     2.152364    0.059545                  0.133100         0.718261  \n",
       "std      2.731796    0.621226                  0.422782         0.794535  \n",
       "min      0.000000    0.000000                  0.000000         0.000000  \n",
       "25%      0.000000    0.000000                  0.000000         0.000000  \n",
       "50%      1.000000    0.000000                  0.000000         1.000000  \n",
       "75%      3.000000    0.000000                  0.000000         1.000000  \n",
       "max     26.000000   14.000000                  4.000000         7.000000  "
      ]
     },
     "execution_count": 35,
     "metadata": {},
     "output_type": "execute_result"
    }
   ],
   "source": [
    "# Summary Statistics \n",
    "scooby_df.describe()"
   ]
  },
  {
   "cell_type": "code",
   "execution_count": 54,
   "id": "4e3bf609-ad77-448a-a602-21912af9b964",
   "metadata": {},
   "outputs": [
    {
     "name": "stdout",
     "output_type": "stream",
     "text": [
      "Number of Times Fred Has Been Captured: 71\n",
      "Number of Times Fred Has Caught a Monster: 132\n",
      "Number of Scooby Snacks Fred Has Eaten: 18\n"
     ]
    }
   ],
   "source": [
    "# Fred \n",
    "fred_caught = scooby_df['caught_fred'].sum()\n",
    "fred_captured = scooby_df['captured_fred'].sum()\n",
    "fred_snacks = scooby_df['snack_fred'].sum()\n",
    "print('Number of Times Fred Has Been Captured:', fred_captured)\n",
    "print('Number of Times Fred Has Caught a Monster:', fred_caught)\n",
    "print('Number of Scooby Snacks Fred Has Eaten:', fred_snacks)"
   ]
  },
  {
   "cell_type": "code",
   "execution_count": 53,
   "id": "831c51f3-f99f-4c24-986b-952472e01398",
   "metadata": {},
   "outputs": [
    {
     "name": "stdout",
     "output_type": "stream",
     "text": [
      "Number of Times Daphne Has Been Captured: 91\n",
      "Number of Times Daphne Has Caught a Monster: 29\n",
      "Number of Scooby Snacks Daphne Has Eaten: 49\n"
     ]
    }
   ],
   "source": [
    "# Daphne\n",
    "daphne_caught = scooby_df['caught_daphnie'].sum()\n",
    "daphne_captured = scooby_df['captured_daphnie'].sum()\n",
    "daphne_snacks = scooby_df['snack_daphnie'].sum()\n",
    "print('Number of Times Daphne Has Been Captured:', daphne_captured)\n",
    "print('Number of Times Daphne Has Caught a Monster:', daphne_caught)\n",
    "print('Number of Scooby Snacks Daphne Has Eaten:', daphne_snacks)"
   ]
  },
  {
   "cell_type": "code",
   "execution_count": 51,
   "id": "6b6d6e9c-5790-48d0-9f98-0a3d89c7933f",
   "metadata": {},
   "outputs": [
    {
     "name": "stdout",
     "output_type": "stream",
     "text": [
      "Number of Times Velma Has Been Captured: 74\n",
      "Number of Times Velma Has Been Caught a Monster: 41\n",
      "Number of Scooby Snacks Velma Has Eaten: 29\n"
     ]
    }
   ],
   "source": [
    "# Velma\n",
    "velma_caught = scooby_df['caught_velma'].sum()\n",
    "velma_captured = scooby_df['captured_velma'].sum()\n",
    "velma_snacks = scooby_df['snack_velma'].sum()\n",
    "print('Number of Times Velma Has Been Captured:', velma_captured)\n",
    "print('Number of Times Velma Has Been Caught a Monster:', velma_caught)\n",
    "print('Number of Scooby Snacks Velma Has Eaten:', velma_snacks)"
   ]
  },
  {
   "cell_type": "code",
   "execution_count": 49,
   "id": "11ecb726-a9ed-4c20-ae91-45be351e4436",
   "metadata": {},
   "outputs": [
    {
     "name": "stdout",
     "output_type": "stream",
     "text": [
      "Number of Times Shaggy Has Been Captured: 85\n",
      "Number of Times Shaggy Has Been Caught a Monster 77\n",
      "Number of Scooby Snacks Shaggy Has Eaten: 43\n"
     ]
    }
   ],
   "source": [
    "# Shaggy \n",
    "shaggy_caught = scooby_df['caught_shaggy'].sum()\n",
    "shaggy_captured = scooby_df['captured_shaggy'].sum()\n",
    "shaggy_snacks = scooby_df['snack_shaggy'].sum()\n",
    "print('Number of Times Shaggy Has Been Captured:', shaggy_captured)\n",
    "print('Number of Times Shaggy Has Been Caught a Monster', shaggy_caught)\n",
    "print('Number of Scooby Snacks Shaggy Has Eaten:', shaggy_snacks)"
   ]
  },
  {
   "cell_type": "code",
   "execution_count": 48,
   "id": "034d7d62-0c6a-42f6-9760-fd74fb335a67",
   "metadata": {},
   "outputs": [
    {
     "name": "stdout",
     "output_type": "stream",
     "text": [
      "Number of Times Scooby Has Been Captured: 83\n",
      "Number of Times Scooby Has Been Caught a Monster: 160\n",
      "Number of Scooby Snacks Scooby Has Eaten: 12\n"
     ]
    }
   ],
   "source": [
    "# Scooby \n",
    "scooby_caught = scooby_df['caught_scooby'].sum()\n",
    "scooby_captured = scooby_df['captured_scooby'].sum()\n",
    "scooby_snacks = scooby_df['snack_scooby'].sum()\n",
    "print('Number of Times Scooby Has Been Captured:', scooby_captured)\n",
    "print('Number of Times Scooby Has Been Caught a Monster:', scooby_caught)\n",
    "print('Number of Scooby Snacks Scooby Has Eaten:', scooby_snacks)"
   ]
  },
  {
   "cell_type": "code",
   "execution_count": 45,
   "id": "53eec901-5b86-4d92-b629-b8f8eb68356f",
   "metadata": {},
   "outputs": [
    {
     "data": {
      "image/png": "[encoded data removed]",
      "text/plain": [
       "<Figure size 432x288 with 1 Axes>"
      ]
     },
     "metadata": {
      "needs_background": "light"
     },
     "output_type": "display_data"
    }
   ],
   "source": [
    "# Exploratory Data Visualization #1: Number of Times Each Gang Member Has Been Captured by a Monster\n",
    "\n",
    "fig = plt.figure()\n",
    "ax = fig.add_axes([0,0,1,1])\n",
    "the_gang = ['Fred', 'Daphne', 'Velma', 'Shaggy', 'Scooby']\n",
    "captures = [fred_captured, daphne_captured, velma_captured, shaggy_captured, scooby_captured]\n",
    "ax.bar(the_gang, captures, color = 'green')\n",
    "plt.title('Number of Times Each Gang Member Has Been Captured by a Monster')\n",
    "plt.show()"
   ]
  },
  {
   "cell_type": "code",
   "execution_count": 46,
   "id": "833515ed-b810-4237-8d2d-e1b8d0b6ff2f",
   "metadata": {},
   "outputs": [
    {
     "data": {
      "image/png": "[encoded data removed]",
      "text/plain": [
       "<Figure size 432x288 with 1 Axes>"
      ]
     },
     "metadata": {
      "needs_background": "light"
     },
     "output_type": "display_data"
    }
   ],
   "source": [
    "# Exploratory Data Visualization #2: Number of Times Each Gang Member Has Caught a Monster\n",
    "\n",
    "fig = plt.figure()\n",
    "ax = fig.add_axes([0,0,1,1])\n",
    "the_gang = ['Fred', 'Daphne', 'Velma', 'Shaggy', 'Scooby']\n",
    "catches = [fred_caught, daphne_caught, velma_caught, shaggy_caught, scooby_caught]\n",
    "ax.bar(the_gang, catches, color = 'red')\n",
    "plt.title('Number of Times Each Gang Member Has Caught a Monster')\n",
    "plt.show()"
   ]
  },
  {
   "cell_type": "code",
   "execution_count": 56,
   "id": "a6204051-18fd-402b-9195-76810e67a1ca",
   "metadata": {},
   "outputs": [
    {
     "data": {
      "image/png": "[encoded data removed]",
      "text/plain": [
       "<Figure size 432x288 with 1 Axes>"
      ]
     },
     "metadata": {
      "needs_background": "light"
     },
     "output_type": "display_data"
    }
   ],
   "source": [
    "# Exploratory Data Visualization #3: Number of Scooby Snacks Each Gang Member Has Eaten \n",
    "\n",
    "fig = plt.figure()\n",
    "ax = fig.add_axes([0,0,1,1])\n",
    "the_gang = ['Fred', 'Daphne', 'Velma', 'Shaggy', 'Scooby']\n",
    "scooby_snacking = [fred_snacks, daphne_snacks, velma_snacks, shaggy_snacks, scooby_snacks]\n",
    "ax.bar(the_gang, scooby_snacking, color = 'orange')\n",
    "plt.title('Number of Scooby Snacks Each Gang Member Has Eaten')\n",
    "plt.show()"
   ]
  },
  {
   "cell_type": "code",
   "execution_count": 66,
   "id": "9123deb0-03ea-458a-98c6-ad8481391d0c",
   "metadata": {},
   "outputs": [],
   "source": [
    "# Motives of Each Monster in Scooby Doo \n",
    "motives_list = scooby_df['motive'].to_list()\n",
    "\n",
    "frequency = {}\n",
    "for word in motives_list:\n",
    "    count = frequency.get(word, 0)\n",
    "    frequency[word] = count + 1 "
   ]
  },
  {
   "cell_type": "code",
   "execution_count": 74,
   "id": "a47c116d-b193-496f-aac3-7b380b48320b",
   "metadata": {},
   "outputs": [],
   "source": [
    "motives = list(frequency.keys())\n",
    "motive_count = list(frequency.values())"
   ]
  },
  {
   "cell_type": "code",
   "execution_count": 88,
   "id": "2cfef717-abc5-45cf-9280-1cc42f4f5605",
   "metadata": {},
   "outputs": [
    {
     "data": {
      "text/plain": [
       "Text(0.5, 1.0, 'Most Common Motives of Each Monster in Scooby Doo')"
      ]
     },
     "execution_count": 88,
     "metadata": {},
     "output_type": "execute_result"
    },
    {
     "data": {
      "image/png": "[encoded data removed]",
      "text/plain": [
       "<Figure size 432x288 with 1 Axes>"
      ]
     },
     "metadata": {
      "needs_background": "light"
     },
     "output_type": "display_data"
    }
   ],
   "source": [
    "plt.bar(range(len(frequency)), motive_count, tick_label = motives)\n",
    "plt.xticks(rotation = 90)\n",
    "plt.title('Most Common Motives of Each Monster in Scooby Doo')"
   ]
  },
  {
   "cell_type": "markdown",
   "id": "d080ca82-8396-4aa2-9879-4dd258133d5a",
   "metadata": {},
   "source": [
    "## Data Visualizations"
   ]
  },
  {
   "cell_type": "markdown",
   "id": "906b3c6d-15e5-4bb4-90bd-9f88de9460b4",
   "metadata": {},
   "source": [
    "#### Does Eating Scooby Snacks Improve Each Gang Members' Ability to Capture Monsters?"
   ]
  },
  {
   "cell_type": "code",
   "execution_count": 104,
   "id": "f90481b5-2a83-4077-a78d-ddb7dfaeddce",
   "metadata": {},
   "outputs": [
    {
     "name": "stdout",
     "output_type": "stream",
     "text": [
      "Number of Times Fred Has Been Captured: 3\n",
      "Number of Times Fred Has Caught a Monster: 5\n"
     ]
    }
   ],
   "source": [
    "# Fred \n",
    "fred_df = scooby_df[scooby_df['snack_fred'] == True]\n",
    "fred_cap = fred_df['captured_fred'].sum()\n",
    "fred_cau = fred_df['caught_fred'].sum()\n",
    "\n",
    "\n",
    "print('Number of Times Fred Has Been Captured:', fred_cap)\n",
    "print('Number of Times Fred Has Caught a Monster:', fred_cau)\n"
   ]
  },
  {
   "cell_type": "code",
   "execution_count": 110,
   "id": "2c0b5c8e-7e49-48dd-889c-c4c93850f374",
   "metadata": {},
   "outputs": [
    {
     "name": "stdout",
     "output_type": "stream",
     "text": [
      "Number of Times Daphne Has Been Captured: 8\n",
      "Number of Times Daphne Has Caught a Monster: 2\n"
     ]
    }
   ],
   "source": [
    "# Daphne \n",
    "\n",
    "daphne_df = scooby_df[scooby_df['snack_daphnie'] == True]\n",
    "daphne_cap = daphne_df['captured_daphnie'].sum()\n",
    "daphne_cau = daphne_df['caught_daphnie'].sum()\n",
    "\n",
    "print('Number of Times Daphne Has Been Captured:', daphne_cap)\n",
    "print('Number of Times Daphne Has Caught a Monster:', daphne_cau)"
   ]
  },
  {
   "cell_type": "code",
   "execution_count": 111,
   "id": "ccc94a5e-97a5-4ead-8a7d-cd18e7fc263c",
   "metadata": {},
   "outputs": [
    {
     "name": "stdout",
     "output_type": "stream",
     "text": [
      "Number of Times Velma Has Been Captured: 11\n",
      "Number of Times Velma Has Caught a Monster: 3\n"
     ]
    }
   ],
   "source": [
    "# Velma \n",
    "\n",
    "velma_df = scooby_df[scooby_df['snack_velma'] == True]\n",
    "velma_cap = velma_df['captured_velma'].sum()\n",
    "velma_cau = velma_df['caught_velma'].sum()\n",
    "\n",
    "print('Number of Times Velma Has Been Captured:', velma_cap)\n",
    "print('Number of Times Velma Has Caught a Monster:', velma_cau)"
   ]
  },
  {
   "cell_type": "code",
   "execution_count": 112,
   "id": "2110d1d6-e304-4b74-939e-c930d93da6c0",
   "metadata": {},
   "outputs": [
    {
     "name": "stdout",
     "output_type": "stream",
     "text": [
      "Number of Times Shaggy Has Been Captured: 9\n",
      "Number of Times Shaggy Has Caught a Monster: 4\n"
     ]
    }
   ],
   "source": [
    "# Shaggy\n",
    "\n",
    "shaggy_df = scooby_df[scooby_df['snack_shaggy'] == True]\n",
    "shaggy_cap = shaggy_df['captured_shaggy'].sum()\n",
    "shaggy_cau = shaggy_df['caught_shaggy'].sum()\n",
    "\n",
    "print('Number of Times Shaggy Has Been Captured:', shaggy_cap)\n",
    "print('Number of Times Shaggy Has Caught a Monster:', shaggy_cau)"
   ]
  },
  {
   "cell_type": "code",
   "execution_count": 113,
   "id": "4ac8bca0-63e8-4ce3-ba90-95fed8337409",
   "metadata": {},
   "outputs": [
    {
     "name": "stdout",
     "output_type": "stream",
     "text": [
      "Number of Times Scooby Has Been Captured: 4\n",
      "Number of Times Scooby Has Caught a Monster: 2\n"
     ]
    }
   ],
   "source": [
    "# Scooby\n",
    "\n",
    "scooby_df = scooby_df[scooby_df['snack_scooby'] == True]\n",
    "scooby_cap = scooby_df['captured_shaggy'].sum()\n",
    "scooby_cau = scooby_df['caught_shaggy'].sum()\n",
    "\n",
    "print('Number of Times Scooby Has Been Captured:', scooby_cap)\n",
    "print('Number of Times Scooby Has Caught a Monster:', scooby_cau)"
   ]
  },
  {
   "cell_type": "code",
   "execution_count": 115,
   "id": "b5ae2b91-9d17-4095-890e-2992c077328a",
   "metadata": {},
   "outputs": [
    {
     "data": {
      "image/png": "[encoded data removed]",
      "text/plain": [
       "<Figure size 432x288 with 1 Axes>"
      ]
     },
     "metadata": {},
     "output_type": "display_data"
    }
   ],
   "source": [
    "# Data Viz #1: Percentage of Times Each Gang Member Has Caught a Monster After Eating a Scooby Snack in That Episode\n",
    "\n",
    "fig = plt.figure()\n",
    "ax = fig.add_axes([0,0,1,1])\n",
    "ax.axis('equal')\n",
    "the_gang = ['Fred', 'Daphne', 'Velma', 'Shaggy', 'Scooby']\n",
    "snack_catches = [fred_cau, daphne_cau, velma_cau, shaggy_cau, scooby_cau]\n",
    "ax.pie(snack_catches, labels = the_gang, autopct='%1.2f%%')\n",
    "plt.title('Monster Capture Rate of Each Gang Member After Consuming Scooby Snacks')\n",
    "plt.show()"
   ]
  },
  {
   "cell_type": "code",
   "execution_count": 118,
   "id": "6726866f-e395-4c2e-8626-15bb0c24a725",
   "metadata": {},
   "outputs": [
    {
     "data": {
      "image/png": "[encoded data removed]",
      "text/plain": [
       "<Figure size 432x288 with 1 Axes>"
      ]
     },
     "metadata": {},
     "output_type": "display_data"
    }
   ],
   "source": [
    "# Data Viz #2: Percentage of Times Each Gang Member Has Gotten Caught After Eating Scooby Snacks\n",
    "\n",
    "fig = plt.figure()\n",
    "ax = fig.add_axes([0,0,1,1])\n",
    "ax.axis('equal')\n",
    "the_gang = ['Fred', 'Daphne', 'Velma', 'Shaggy', 'Scooby']\n",
    "snack_cap = [fred_cap, daphne_cap, velma_cap, shaggy_cap, scooby_cap]\n",
    "ax.pie(snack_cap, labels = the_gang, autopct='%1.2f%%')\n",
    "plt.title('Abduction Rate of Each Gang Member After Consuming Scooby Snacks')\n",
    "plt.show()"
   ]
  },
  {
   "cell_type": "markdown",
   "id": "465a84ae-f74e-4984-9921-3639a8e9558b",
   "metadata": {},
   "source": [
    "Ideas for Other Data Visualizations:\n",
    "- Line plot of Scooby Snack Consumption vs. Monster Captures to see if Scooby Snack consumption improves Monster Capturing performance\n",
    "- Line plot of Scooby Snack Consumption vs. Monster Abductions to see if Scooby Snack consumption actually negatively affects performance"
   ]
  }
 ],
 "metadata": {
  "kernelspec": {
   "display_name": "Python 3 (ipykernel)",
   "language": "python",
   "name": "python3"
  },
  "language_info": {
   "codemirror_mode": {
    "name": "ipython",
    "version": 3
   },
   "file_extension": ".py",
   "mimetype": "text/x-python",
   "name": "python",
   "nbconvert_exporter": "python",
   "pygments_lexer": "ipython3",
   "version": "3.9.6"
  }
 },
 "nbformat": 4,
 "nbformat_minor": 5
}

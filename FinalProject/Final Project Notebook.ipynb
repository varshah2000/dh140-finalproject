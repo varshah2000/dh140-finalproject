{
 "cells": [
  {
   "cell_type": "markdown",
   "id": "082247be-8945-4f97-882f-121f6f074844",
   "metadata": {},
   "source": [
    "# DH 140 Final Project: Inside the Scooby-Doo Verse"
   ]
  },
  {
   "cell_type": "markdown",
   "id": "6f9724ff-468c-433c-b539-b83418dcfc8a",
   "metadata": {},
   "source": [
    "A a data analysis project by UCLA Digital Humanities student Varsha Hunter. \n",
    "\n",
    "Date: March 14, 2022"
   ]
  },
  {
   "cell_type": "markdown",
   "id": "c91c19c1-8d39-4b8a-add5-89a6adebfbaf",
   "metadata": {},
   "source": [
    "## Introduction"
   ]
  },
  {
   "cell_type": "markdown",
   "id": "8d99a24c-55b7-428b-8c79-9594986ad648",
   "metadata": {},
   "source": [
    "This project aims to explore the Scooby-Doo universe and answer some controversial questions about the Gang and their adventures capturing monsters and villains."
   ]
  },
  {
   "cell_type": "markdown",
   "id": "5e67911c-3287-4789-bb89-c6599b24aa74",
   "metadata": {},
   "source": [
    "### Research Question: Who is the strongest and weakest link among the Gang? "
   ]
  },
  {
   "cell_type": "markdown",
   "id": "ca2df4e7-ce0f-4083-9a59-ddde7363a131",
   "metadata": {},
   "source": [
    "The Scooby-Doo Gang consists of five total members: Fred, Velma, Daphne, Shaggy, and Scooby-Doo. Fans of Scooby-Doo have their favorites for numerous reasons, however many may argue who is the strongest link and who is the weakest link among the gang. Is Velma the strongest because she is the smartest? Or is she the weakest because of her bad eyesight? Or is Fred the strongest due to his leadership qualities? Or is he the weakest because he brings nothing else to the table? This project may bring about controversy because the answer may not be what we expect due to personal opinions. However, we aim to answer this question using different metrics such as: the number of times each character has been abducted by a villain, the number of snacks they consume in an episode, and the number of villains they've captured themselves. Hopefully after our extensive analysis, we're able to come to a decisive conclusion."
   ]
  },
  {
   "cell_type": "markdown",
   "id": "d9d5115b-1286-4b4e-b822-0d17077ab65a",
   "metadata": {},
   "source": [
    "### Project Scope"
   ]
  },
  {
   "cell_type": "markdown",
   "id": "6ec829f7-3bb5-4f42-9fa6-21731a09f134",
   "metadata": {},
   "source": [
    "The goal of our project is to answer our research question through statistical analysis and visualizations using variables provided within the data. In addition to our research question, here are some supplementary questions we aim to answer in our analysis:\n",
    "\n",
    "- Do Scooby Snacks improve the capabilities of each Gang member? In other words, does Scooby Snack consumption boost one's ability to capture villains? \n",
    "- Which Gang member captures the most monsters? Which Gang member captures the least? \n"
   ]
  },
  {
   "cell_type": "markdown",
   "id": "62ac4b6c-d1af-41db-9070-88278e773fdb",
   "metadata": {},
   "source": [
    "## Methods"
   ]
  },
  {
   "cell_type": "markdown",
   "id": "19cfde3a-1f15-43a3-a2ba-794121b52cc6",
   "metadata": {},
   "source": [
    "Here we introduce our data and explain the methodology of our analysis."
   ]
  },
  {
   "cell_type": "markdown",
   "id": "c87d23c0-9c75-4b9b-85b6-608c5ef20503",
   "metadata": {},
   "source": [
    "### Looking at the Data:"
   ]
  },
  {
   "cell_type": "markdown",
   "id": "4f245c9e-2b7a-42b8-9f44-1e35fde67508",
   "metadata": {},
   "source": [
    "This dataset was originally created by plummye and shared on Kaggle. However, I accessed the dataset in the form of a csv from Data.World. \n",
    "\n",
    "Here is a link to the dataset where all variables are explained and the csv can be downloaded: https://data.world/amberthomas/scooby-doo-tv-episodes-movies. "
   ]
  },
  {
   "cell_type": "markdown",
   "id": "654b24ae-1486-4a95-ae65-0e022a65ff45",
   "metadata": {},
   "source": [
    "#### Data Preview"
   ]
  },
  {
   "cell_type": "code",
   "execution_count": 2,
   "id": "6004c5f7-82bd-4b44-a8c8-07d37027c0f0",
   "metadata": {},
   "outputs": [],
   "source": [
    "#collapse_show\n",
    "\n",
    "# imports\n",
    "import pandas as pd "
   ]
  },
  {
   "cell_type": "code",
   "execution_count": 64,
   "id": "cbd1f8bc-5d11-4ebf-b1c1-08ae4176a6c5",
   "metadata": {},
   "outputs": [
    {
     "data": {
      "text/html": [
       "<div>\n",
       "<style scoped>\n",
       "    .dataframe tbody tr th:only-of-type {\n",
       "        vertical-align: middle;\n",
       "    }\n",
       "\n",
       "    .dataframe tbody tr th {\n",
       "        vertical-align: top;\n",
       "    }\n",
       "\n",
       "    .dataframe thead th {\n",
       "        text-align: right;\n",
       "    }\n",
       "</style>\n",
       "<table border=\"1\" class=\"dataframe\">\n",
       "  <thead>\n",
       "    <tr style=\"text-align: right;\">\n",
       "      <th></th>\n",
       "      <th>index</th>\n",
       "      <th>series_name</th>\n",
       "      <th>network</th>\n",
       "      <th>season</th>\n",
       "      <th>title</th>\n",
       "      <th>imdb</th>\n",
       "      <th>engagement</th>\n",
       "      <th>date_aired</th>\n",
       "      <th>run_time</th>\n",
       "      <th>format</th>\n",
       "      <th>...</th>\n",
       "      <th>batman</th>\n",
       "      <th>scooby_dum</th>\n",
       "      <th>scrappy_doo</th>\n",
       "      <th>hex_girls</th>\n",
       "      <th>blue_falcon</th>\n",
       "      <th>fred_va</th>\n",
       "      <th>daphnie_va</th>\n",
       "      <th>velma_va</th>\n",
       "      <th>shaggy_va</th>\n",
       "      <th>scooby_va</th>\n",
       "    </tr>\n",
       "  </thead>\n",
       "  <tbody>\n",
       "    <tr>\n",
       "      <th>0</th>\n",
       "      <td>1</td>\n",
       "      <td>Scooby Doo, Where Are You!</td>\n",
       "      <td>CBS</td>\n",
       "      <td>1</td>\n",
       "      <td>What a Night for a Knight</td>\n",
       "      <td>8.1</td>\n",
       "      <td>556.0</td>\n",
       "      <td>1969-09-13</td>\n",
       "      <td>21</td>\n",
       "      <td>TV Series</td>\n",
       "      <td>...</td>\n",
       "      <td>False</td>\n",
       "      <td>False</td>\n",
       "      <td>False</td>\n",
       "      <td>False</td>\n",
       "      <td>False</td>\n",
       "      <td>Frank Welker</td>\n",
       "      <td>Stefanianna Christopherson</td>\n",
       "      <td>Nicole Jaffe</td>\n",
       "      <td>Casey Kasem</td>\n",
       "      <td>Don Messick</td>\n",
       "    </tr>\n",
       "    <tr>\n",
       "      <th>1</th>\n",
       "      <td>2</td>\n",
       "      <td>Scooby Doo, Where Are You!</td>\n",
       "      <td>CBS</td>\n",
       "      <td>1</td>\n",
       "      <td>A Clue for Scooby Doo</td>\n",
       "      <td>8.1</td>\n",
       "      <td>479.0</td>\n",
       "      <td>1969-09-20</td>\n",
       "      <td>22</td>\n",
       "      <td>TV Series</td>\n",
       "      <td>...</td>\n",
       "      <td>False</td>\n",
       "      <td>False</td>\n",
       "      <td>False</td>\n",
       "      <td>False</td>\n",
       "      <td>False</td>\n",
       "      <td>Frank Welker</td>\n",
       "      <td>Stefanianna Christopherson</td>\n",
       "      <td>Nicole Jaffe</td>\n",
       "      <td>Casey Kasem</td>\n",
       "      <td>Don Messick</td>\n",
       "    </tr>\n",
       "    <tr>\n",
       "      <th>2</th>\n",
       "      <td>3</td>\n",
       "      <td>Scooby Doo, Where Are You!</td>\n",
       "      <td>CBS</td>\n",
       "      <td>1</td>\n",
       "      <td>Hassle in the Castle</td>\n",
       "      <td>8.0</td>\n",
       "      <td>455.0</td>\n",
       "      <td>1969-09-27</td>\n",
       "      <td>21</td>\n",
       "      <td>TV Series</td>\n",
       "      <td>...</td>\n",
       "      <td>False</td>\n",
       "      <td>False</td>\n",
       "      <td>False</td>\n",
       "      <td>False</td>\n",
       "      <td>False</td>\n",
       "      <td>Frank Welker</td>\n",
       "      <td>Stefanianna Christopherson</td>\n",
       "      <td>Nicole Jaffe</td>\n",
       "      <td>Casey Kasem</td>\n",
       "      <td>Don Messick</td>\n",
       "    </tr>\n",
       "    <tr>\n",
       "      <th>3</th>\n",
       "      <td>4</td>\n",
       "      <td>Scooby Doo, Where Are You!</td>\n",
       "      <td>CBS</td>\n",
       "      <td>1</td>\n",
       "      <td>Mine Your Own Business</td>\n",
       "      <td>7.8</td>\n",
       "      <td>426.0</td>\n",
       "      <td>1969-10-04</td>\n",
       "      <td>21</td>\n",
       "      <td>TV Series</td>\n",
       "      <td>...</td>\n",
       "      <td>False</td>\n",
       "      <td>False</td>\n",
       "      <td>False</td>\n",
       "      <td>False</td>\n",
       "      <td>False</td>\n",
       "      <td>Frank Welker</td>\n",
       "      <td>Stefanianna Christopherson</td>\n",
       "      <td>Nicole Jaffe</td>\n",
       "      <td>Casey Kasem</td>\n",
       "      <td>Don Messick</td>\n",
       "    </tr>\n",
       "    <tr>\n",
       "      <th>4</th>\n",
       "      <td>5</td>\n",
       "      <td>Scooby Doo, Where Are You!</td>\n",
       "      <td>CBS</td>\n",
       "      <td>1</td>\n",
       "      <td>Decoy for a Dognapper</td>\n",
       "      <td>7.5</td>\n",
       "      <td>391.0</td>\n",
       "      <td>1969-10-11</td>\n",
       "      <td>21</td>\n",
       "      <td>TV Series</td>\n",
       "      <td>...</td>\n",
       "      <td>False</td>\n",
       "      <td>False</td>\n",
       "      <td>False</td>\n",
       "      <td>False</td>\n",
       "      <td>False</td>\n",
       "      <td>Frank Welker</td>\n",
       "      <td>Stefanianna Christopherson</td>\n",
       "      <td>Nicole Jaffe</td>\n",
       "      <td>Casey Kasem</td>\n",
       "      <td>Don Messick</td>\n",
       "    </tr>\n",
       "  </tbody>\n",
       "</table>\n",
       "<p>5 rows × 75 columns</p>\n",
       "</div>"
      ],
      "text/plain": [
       "   index                 series_name network season  \\\n",
       "0      1  Scooby Doo, Where Are You!     CBS      1   \n",
       "1      2  Scooby Doo, Where Are You!     CBS      1   \n",
       "2      3  Scooby Doo, Where Are You!     CBS      1   \n",
       "3      4  Scooby Doo, Where Are You!     CBS      1   \n",
       "4      5  Scooby Doo, Where Are You!     CBS      1   \n",
       "\n",
       "                       title  imdb  engagement  date_aired  run_time  \\\n",
       "0  What a Night for a Knight   8.1       556.0  1969-09-13        21   \n",
       "1      A Clue for Scooby Doo   8.1       479.0  1969-09-20        22   \n",
       "2       Hassle in the Castle   8.0       455.0  1969-09-27        21   \n",
       "3     Mine Your Own Business   7.8       426.0  1969-10-04        21   \n",
       "4      Decoy for a Dognapper   7.5       391.0  1969-10-11        21   \n",
       "\n",
       "      format  ... batman scooby_dum scrappy_doo hex_girls blue_falcon  \\\n",
       "0  TV Series  ...  False      False       False     False       False   \n",
       "1  TV Series  ...  False      False       False     False       False   \n",
       "2  TV Series  ...  False      False       False     False       False   \n",
       "3  TV Series  ...  False      False       False     False       False   \n",
       "4  TV Series  ...  False      False       False     False       False   \n",
       "\n",
       "        fred_va                  daphnie_va      velma_va    shaggy_va  \\\n",
       "0  Frank Welker  Stefanianna Christopherson  Nicole Jaffe  Casey Kasem   \n",
       "1  Frank Welker  Stefanianna Christopherson  Nicole Jaffe  Casey Kasem   \n",
       "2  Frank Welker  Stefanianna Christopherson  Nicole Jaffe  Casey Kasem   \n",
       "3  Frank Welker  Stefanianna Christopherson  Nicole Jaffe  Casey Kasem   \n",
       "4  Frank Welker  Stefanianna Christopherson  Nicole Jaffe  Casey Kasem   \n",
       "\n",
       "     scooby_va  \n",
       "0  Don Messick  \n",
       "1  Don Messick  \n",
       "2  Don Messick  \n",
       "3  Don Messick  \n",
       "4  Don Messick  \n",
       "\n",
       "[5 rows x 75 columns]"
      ]
     },
     "execution_count": 64,
     "metadata": {},
     "output_type": "execute_result"
    }
   ],
   "source": [
    "#collapse_show\n",
    "\n",
    "# Loading the Data \n",
    "og_scooby_df = pd.read_csv('scoobydoo.csv')\n",
    "\n",
    "#Selecting rows relevant to TV series only \n",
    "scooby_df = og_scooby_df.loc[(og_scooby_df['format'] =='TV Series')| (og_scooby_df['format'] == 'TV Series (segmented)') | (og_scooby_df['format'] == 'Crossover')]\n",
    "scooby_df.head(5)"
   ]
  },
  {
   "cell_type": "markdown",
   "id": "aa0c5d61-2d52-425e-919b-b4db25f5efd4",
   "metadata": {},
   "source": [
    "This dataset has 75 columns or variables that represent different attributes for the characters, villains, ratings and more for every episode & movie within the Scooby Doo universe. We limited our dataset to only showcase the rows that pertained to the TV episode/series and excluded the movies for simplicity in our analysis. "
   ]
  },
  {
   "cell_type": "markdown",
   "id": "93138b54-0983-4023-8309-dff6ab544889",
   "metadata": {},
   "source": [
    "For our analysis, we will focus on these variables only:\n",
    "\n",
    "- format: the media format (TV Episode) \n",
    "- monster_real: yes/no value that represents whether the monster was real or fake (human or not)\n",
    "- caught_fred, caught_daphne, caught_velma, caught_shaggy, caught_scooby: whether the monster was caught by said Gang member\n",
    "- captured_fred, captured_daphne, captured_velma,captured_shaggy, captured_scooby: whether the monster abducted/kidnapped said Gang member\n",
    "- snack_fred, snack_daphne, snack_shaggy, snack_velma, snack_scooby: whether a scooby snack was eaten by said Gang member\n",
    "- number_of_snacks: number of Scooby snacks eaten within an episode/movie\n"
   ]
  },
  {
   "cell_type": "markdown",
   "id": "98b9a5be-caa9-4209-af78-8b3d42343c59",
   "metadata": {},
   "source": [
    "### Methodology:"
   ]
  },
  {
   "cell_type": "markdown",
   "id": "6d09ae32-6f93-4214-9af5-bf51af551815",
   "metadata": {},
   "source": [
    "In order to answer our research question, we conducted an exploratory analysis to get an understanding of the data. We first answered these general questions in our EDA: \n",
    "\n",
    "- What is the frequency of real and fake monsters within the Scooby Doo verse? Are most monsters fake or real?\n",
    "- What is the mode number of snacks consumed in the series? \n",
    "- Who has consumed the most Scooby snacks over the course of the series? Who has consumed the least?"
   ]
  },
  {
   "cell_type": "markdown",
   "id": "5cda2287-d1f5-4c05-b185-f5d551d62344",
   "metadata": {},
   "source": [
    "After answering these general questions, we moved onto finding an answer to our research question: Which member is the strongest and weakest link among the Gang? To answer this question, we determined: \n",
    "\n",
    "- The number of times each Gang member has been abducted by a real and fake Monster in total over the course of the series\n",
    "- Determining the Rate of Successful Fake & Real Monsters by each Gang member \n",
    "- The number of snacks each Gang member has consumed vs. the number of monsters they've captured over the course of the series"
   ]
  },
  {
   "cell_type": "markdown",
   "id": "969bffad-d9e2-49da-a5f8-f1956fc4880f",
   "metadata": {},
   "source": [
    "## Results"
   ]
  },
  {
   "cell_type": "markdown",
   "id": "2f1df168-b252-4a60-89b1-bf0abf1be606",
   "metadata": {},
   "source": [
    "Here we conduct our EDA, provide visuals, and answer the questions pertaining to our research question. "
   ]
  },
  {
   "cell_type": "markdown",
   "id": "dfeb3aee-f986-4e72-995a-d64b115be05b",
   "metadata": {},
   "source": [
    "### EDA"
   ]
  },
  {
   "cell_type": "code",
   "execution_count": 211,
   "id": "c1e8016b-9ee3-4c59-a3f4-b7ce382a08b2",
   "metadata": {},
   "outputs": [],
   "source": [
    "#collapse_show\n",
    "\n",
    "# imports\n",
    "import matplotlib.pyplot as plt\n",
    "import matplotlib.patches as mpatches\n",
    "import numpy as np\n"
   ]
  },
  {
   "cell_type": "markdown",
   "id": "ff877bd7-760f-4646-a9d4-9f61e7990cdf",
   "metadata": {},
   "source": [
    "In our exploration of the data, we looked at the summary statistics for both episode imdb score and episode engagement in order to gage audience attitudes towards the series:"
   ]
  },
  {
   "cell_type": "code",
   "execution_count": 131,
   "id": "09babeb5-7e34-4315-8c00-76b548769100",
   "metadata": {},
   "outputs": [
    {
     "data": {
      "text/html": [
       "<div>\n",
       "<style scoped>\n",
       "    .dataframe tbody tr th:only-of-type {\n",
       "        vertical-align: middle;\n",
       "    }\n",
       "\n",
       "    .dataframe tbody tr th {\n",
       "        vertical-align: top;\n",
       "    }\n",
       "\n",
       "    .dataframe thead th {\n",
       "        text-align: right;\n",
       "    }\n",
       "</style>\n",
       "<table border=\"1\" class=\"dataframe\">\n",
       "  <thead>\n",
       "    <tr style=\"text-align: right;\">\n",
       "      <th></th>\n",
       "      <th>imdb</th>\n",
       "      <th>engagement</th>\n",
       "    </tr>\n",
       "  </thead>\n",
       "  <tbody>\n",
       "    <tr>\n",
       "      <th>count</th>\n",
       "      <td>542.000000</td>\n",
       "      <td>542.000000</td>\n",
       "    </tr>\n",
       "    <tr>\n",
       "      <th>mean</th>\n",
       "      <td>7.353137</td>\n",
       "      <td>97.953875</td>\n",
       "    </tr>\n",
       "    <tr>\n",
       "      <th>std</th>\n",
       "      <td>0.682024</td>\n",
       "      <td>307.695098</td>\n",
       "    </tr>\n",
       "    <tr>\n",
       "      <th>min</th>\n",
       "      <td>4.600000</td>\n",
       "      <td>7.000000</td>\n",
       "    </tr>\n",
       "    <tr>\n",
       "      <th>25%</th>\n",
       "      <td>7.100000</td>\n",
       "      <td>26.000000</td>\n",
       "    </tr>\n",
       "    <tr>\n",
       "      <th>50%</th>\n",
       "      <td>7.400000</td>\n",
       "      <td>47.000000</td>\n",
       "    </tr>\n",
       "    <tr>\n",
       "      <th>75%</th>\n",
       "      <td>7.700000</td>\n",
       "      <td>101.000000</td>\n",
       "    </tr>\n",
       "    <tr>\n",
       "      <th>max</th>\n",
       "      <td>9.600000</td>\n",
       "      <td>6929.000000</td>\n",
       "    </tr>\n",
       "  </tbody>\n",
       "</table>\n",
       "</div>"
      ],
      "text/plain": [
       "             imdb   engagement\n",
       "count  542.000000   542.000000\n",
       "mean     7.353137    97.953875\n",
       "std      0.682024   307.695098\n",
       "min      4.600000     7.000000\n",
       "25%      7.100000    26.000000\n",
       "50%      7.400000    47.000000\n",
       "75%      7.700000   101.000000\n",
       "max      9.600000  6929.000000"
      ]
     },
     "execution_count": 131,
     "metadata": {},
     "output_type": "execute_result"
    }
   ],
   "source": [
    "#hide\n",
    "\n",
    "# Summary Statistics\n",
    "stats_df = scooby_df[['imdb','engagement', 'monster_real', 'caught_fred', 'caught_daphnie', 'caught_velma', 'caught_shaggy', 'caught_scooby', 'captured_fred', 'captured_daphnie', 'captured_velma', 'captured_scooby', 'captured_shaggy', 'snack_fred', 'snack_daphnie', 'snack_velma', 'snack_shaggy', 'snack_scooby', 'number_of_snacks']]\n",
    "stats_df.describe()"
   ]
  },
  {
   "cell_type": "markdown",
   "id": "270fbe5f-c4d9-4c54-bda7-ffb3a627ccc1",
   "metadata": {},
   "source": [
    "As we can see, the average IMDB episode rating is 7.35 and the average user engagement is 97.95. In other words, audiences rate Scooby-Doo on average 7.35/10 and each episode gains approximately 98 reviews. The max amount of reviews left for an episode is 6929 and the max rating for an episode is 9.60. This lets us know that audiences have relatively positive opinions about the series and the gang members. We explore our data further below:   "
   ]
  },
  {
   "cell_type": "markdown",
   "id": "7316d9ab-9f50-4238-8308-7d4cf63e31ed",
   "metadata": {},
   "source": [
    "#### What is the frequency of real and fake monsters within the Scooby Doo verse? Are most monsters fake or real?"
   ]
  },
  {
   "cell_type": "code",
   "execution_count": 65,
   "id": "5632380a-bd3f-46b3-a841-26a67a3bf3a2",
   "metadata": {},
   "outputs": [],
   "source": [
    "#hide\n",
    "\n",
    "# Number of Real & Fake Monsters \n",
    "real_monsters = scooby_df['monster_real'].sum()\n",
    "fake_monsters = len(scooby_df['monster_real']) - real_monsters"
   ]
  },
  {
   "cell_type": "code",
   "execution_count": 86,
   "id": "f558b94b-b243-4b6e-8b72-595edf8b38ff",
   "metadata": {},
   "outputs": [
    {
     "data": {
      "image/png": "[encoded data removed]",
      "text/plain": [
       "<Figure size 432x288 with 1 Axes>"
      ]
     },
     "metadata": {
      "needs_background": "light"
     },
     "output_type": "display_data"
    }
   ],
   "source": [
    "#hide\n",
    "\n",
    "# Plotting Bar Chart\n",
    "fig = plt.figure()\n",
    "ax = fig.add_axes([0, 0, 1, 1])\n",
    "real_fake_monsters = ['Real Monsters', 'Fake Monsters']\n",
    "number_real_fake_monsters = [real_monsters, fake_monsters]\n",
    "ax.bar(real_fake_monsters, number_real_fake_monsters, color = 'blue')\n",
    "plt.title('Number of Real and Fake Monsters within Scooby-Doo Verse')\n",
    "plt.ylabel('Count')\n",
    "plt.show()"
   ]
  },
  {
   "cell_type": "markdown",
   "id": "2200fe7d-d05d-4a6c-b869-506b8eaa5a15",
   "metadata": {},
   "source": [
    "According to our data, there are more fake monsters than real monsters in the Scooby-Doo universe. These 'fake' monsters are typically humans parading as real monsters as a result of some motive. There are numerous motives such as Theft, Anger, and Competition but we do not explore these different motives in our analysis as it is not relevant to our research question. Real monsters within the universe are known to be Ghosts, Animals, or Mythical creatures, etc. however we do not explore these different monster types either in our analysis. "
   ]
  },
  {
   "cell_type": "markdown",
   "id": "97ab6691-5896-48f3-9769-46e397906689",
   "metadata": {},
   "source": [
    "#### What is mode number of snacks consumed in the series? "
   ]
  },
  {
   "cell_type": "code",
   "execution_count": 68,
   "id": "e4b51d12-7261-4272-981c-a3f611b49569",
   "metadata": {},
   "outputs": [],
   "source": [
    "# hide \n",
    "\n",
    "# Number of Snacks & Their Labels\n",
    "number_snacks = scooby_df['number_of_snacks'].value_counts()[1:]\n",
    "snack_labels = ['1', '1 box', 'several', '2', '3', '4', 'a couple', '5', '6', '2 boxes', '3 boxes', 'truck load', 'lifetime supply', '8', 'several boxes']"
   ]
  },
  {
   "cell_type": "code",
   "execution_count": 85,
   "id": "a78d75bb-5735-4bfd-89b5-b27970dd143a",
   "metadata": {},
   "outputs": [
    {
     "data": {
      "text/plain": [
       "Text(0.5, 1.0, 'Number of Scooby Snacks Consumed in the Series')"
      ]
     },
     "execution_count": 85,
     "metadata": {},
     "output_type": "execute_result"
    },
    {
     "data": {
      "image/png": "[encoded data removed]",
      "text/plain": [
       "<Figure size 432x288 with 1 Axes>"
      ]
     },
     "metadata": {
      "needs_background": "light"
     },
     "output_type": "display_data"
    }
   ],
   "source": [
    "# hide\n",
    "\n",
    "# Plotting\n",
    "fig = plt.figure()\n",
    "ax = fig.add_axes([0, 0, 1, 1])\n",
    "ax.bar(snack_labels, number_snacks, color = 'blue')\n",
    "plt.xticks(rotation = 90)\n",
    "plt.xlabel('Number of Scooby Snacks')\n",
    "plt.ylabel('Count')\n",
    "plt.title('Number of Scooby Snacks Consumed in the Series')"
   ]
  },
  {
   "cell_type": "markdown",
   "id": "a252c3b3-b764-460f-91df-194ef1c8aadc",
   "metadata": {},
   "source": [
    "Looking within the data, the mode number of Scooby Snacks consumed in the series is 1. In other words, we typically see one gang member eating at least 1 scooby snack per episode in the series. "
   ]
  },
  {
   "cell_type": "markdown",
   "id": "63371e84-6ef6-455d-9037-f016bccf2a16",
   "metadata": {},
   "source": [
    "#### Who has consumed the most Scooby snacks over the course of the series? Who has consumed the least?"
   ]
  },
  {
   "cell_type": "code",
   "execution_count": 76,
   "id": "51cd67d2-d543-404e-b16d-ada9aa16e660",
   "metadata": {},
   "outputs": [],
   "source": [
    "# hide\n",
    "\n",
    "# Fred \n",
    "fred_snacks = scooby_df['snack_fred'].sum()\n",
    "\n",
    "# Daphne\n",
    "daphne_snacks = scooby_df['snack_daphnie'].sum()\n",
    "\n",
    "# Velma\n",
    "velma_snacks = scooby_df['snack_velma'].sum()\n",
    "\n",
    "#Shaggy \n",
    "shaggy_snacks = scooby_df['snack_shaggy'].sum()\n",
    "\n",
    "#Scooby\n",
    "scooby_snacks = scooby_df['snack_scooby'].sum()"
   ]
  },
  {
   "cell_type": "code",
   "execution_count": 84,
   "id": "1675eb8e-0590-4c99-9c84-2827d489f4d3",
   "metadata": {},
   "outputs": [
    {
     "data": {
      "text/plain": [
       "Text(0, 0.5, 'Count')"
      ]
     },
     "execution_count": 84,
     "metadata": {},
     "output_type": "execute_result"
    },
    {
     "data": {
      "image/png": "[encoded data removed]",
      "text/plain": [
       "<Figure size 432x288 with 1 Axes>"
      ]
     },
     "metadata": {
      "needs_background": "light"
     },
     "output_type": "display_data"
    }
   ],
   "source": [
    "#hide\n",
    "\n",
    "#Plotting\n",
    "the_gang = ['Fred', 'Daphne', 'Velma', 'Shaggy', 'Scooby']\n",
    "snack_consumption = [fred_snacks, daphne_snacks, velma_snacks, shaggy_snacks, scooby_snacks]\n",
    "\n",
    "fig = plt.figure()\n",
    "ax = fig.add_axes([0,0,1,1])\n",
    "ax.bar(the_gang, snack_consumption, color = 'blue')\n",
    "plt.title('Number of Scooby Snacks Each Gang Member Has Eaten')\n",
    "plt.ylabel('Count')"
   ]
  },
  {
   "cell_type": "markdown",
   "id": "09826d3f-5ad7-4cfe-8172-38631472213a",
   "metadata": {},
   "source": [
    "Shockingly, Daphne consumes the most Scooby Snacks over the course of the series and Scooby consumes the least. "
   ]
  },
  {
   "cell_type": "markdown",
   "id": "2eaa50f8-a18c-417c-967c-5711fd1a7d43",
   "metadata": {},
   "source": [
    "### Focused Analysis: Answering our Research Question"
   ]
  },
  {
   "cell_type": "markdown",
   "id": "866bdb3c-761f-4706-bb1e-f23aaf06895e",
   "metadata": {},
   "source": [
    "Here we answer the questions that will guide us to reveal the truths of our research question: Who is the strongest and weakest link among the Scooby-Doo Gang? "
   ]
  },
  {
   "cell_type": "markdown",
   "id": "84298a6b-d1b0-43a1-b3ac-170ae1820b9f",
   "metadata": {},
   "source": [
    "#### Determining the number of times each Gang member has been abducted by Real and Fake Monsters in the Scooby-Doo Verse"
   ]
  },
  {
   "cell_type": "code",
   "execution_count": 109,
   "id": "a57c588e-1fdb-4d9a-baa0-46d822441a32",
   "metadata": {},
   "outputs": [],
   "source": [
    "#collapse_show\n",
    "\n",
    "## Captured by Real Monsters\n",
    "real_monster_df = scooby_df.loc[scooby_df['monster_real'] == True]\n",
    "\n",
    "\n",
    "# Fred\n",
    "fred_abducted_real = real_monster_df['captured_fred'].sum()\n",
    "\n",
    "# Daphne\n",
    "\n",
    "daphne_abducted_real = real_monster_df['captured_daphnie'].sum()\n",
    "\n",
    "# Velma\n",
    "velma_abducted_real = real_monster_df['captured_velma'].sum()\n",
    "\n",
    "# Shaggy\n",
    "shaggy_abducted_real = real_monster_df['captured_shaggy'].sum()\n",
    "\n",
    "#Scooby\n",
    "scooby_abducted_real = real_monster_df['captured_scooby'].sum()"
   ]
  },
  {
   "cell_type": "code",
   "execution_count": 113,
   "id": "8c89cb4f-8b0e-460f-b918-22d5b783a056",
   "metadata": {},
   "outputs": [],
   "source": [
    "#collapse_show\n",
    "\n",
    "## Captured by Fake Monsters \n",
    "fake_monster_df = scooby_df.loc[scooby_df['monster_real'] == False]\n",
    "\n",
    "# Fred\n",
    "fred_abducted_fake = fake_monster_df['captured_fred'].sum()\n",
    "\n",
    "# Daphne\n",
    "daphne_abducted_fake = fake_monster_df['captured_daphnie'].sum()\n",
    "\n",
    "# Velma\n",
    "velma_abducted_fake = fake_monster_df['captured_velma'].sum()\n",
    "\n",
    "# Shaggy\n",
    "shaggy_abducted_fake = fake_monster_df['captured_shaggy'].sum()\n",
    "\n",
    "#Scooby\n",
    "scooby_abducted_fake = fake_monster_df['captured_shaggy'].sum()"
   ]
  },
  {
   "cell_type": "code",
   "execution_count": 127,
   "id": "e43738e8-2ae9-4a74-a44c-72259a3f38b8",
   "metadata": {},
   "outputs": [
    {
     "data": {
      "image/png": "[encoded data removed]",
      "text/plain": [
       "<Figure size 432x288 with 1 Axes>"
      ]
     },
     "metadata": {
      "needs_background": "light"
     },
     "output_type": "display_data"
    }
   ],
   "source": [
    "#collapse_show\n",
    "\n",
    "real_abductions = [fred_abducted_real, daphne_abducted_real, velma_abducted_real, shaggy_abducted_real, scooby_abducted_real]\n",
    "fake_abductions = [fred_abducted_fake, daphne_abducted_fake, velma_abducted_fake, shaggy_abducted_fake, scooby_abducted_fake]\n",
    "\n",
    "x_axis = np.arange(len(the_gang))\n",
    "plt.bar(x_axis - 0.2, real_abductions, 0.4, label = 'Real')\n",
    "plt.bar(x_axis + 0.2, fake_abductions, 0.4,  label = 'Fake') \n",
    "plt.xticks(x_axis, the_gang)\n",
    "plt.ylabel('Count')\n",
    "plt.title('Number of Abductions by Fake & Real Monsters')\n",
    "plt.legend(loc = 'upper left')\n",
    "plt.show()"
   ]
  },
  {
   "cell_type": "markdown",
   "id": "38ddb2f1-b238-4017-b633-27a4eb30f277",
   "metadata": {},
   "source": [
    "According to our visualization, it appears that Scooby Doo gets abducted by Real Monsters more often than any other gang member. On the other hand, Daphne appears to get abducted the most by Fake Monsters. This is a significant finding because Fake monsters are humans in disguise, while Real monsters are some supernatural entity. We presume that dealing with Real monsters is significantly more difficult than dealing with Fake monsters because of their supernatural abilities. Therefore, this finding shows that Daphne may be the weakest linkest since she is one of the members that is most often captured by Fake monsters & is the 3rd gang member to get abducted most often by Real Monsters. However, we continue our analysis below before coming to a decisive conclusion."
   ]
  },
  {
   "cell_type": "markdown",
   "id": "9bb37672-103e-463f-bfa6-8fe212d2034d",
   "metadata": {},
   "source": [
    "#### Determining the Rate of Successful Fake & Real Monsters by each Gang member "
   ]
  },
  {
   "cell_type": "code",
   "execution_count": 145,
   "id": "d98c7c96-0306-46ce-aee8-f5bb5c810dfb",
   "metadata": {},
   "outputs": [],
   "source": [
    "# collapse_show\n",
    "\n",
    "# Fred\n",
    "fred_captured_real = real_monster_df['caught_fred'].sum()\n",
    "fred_real_rate = (fred_captured_real / len(real_monster_df)) * 100\n",
    "\n",
    "# Daphne\n",
    "\n",
    "daphne_captured_real = real_monster_df['caught_daphnie'].sum()\n",
    "daphne_real_rate = (daphne_captured_real / len(real_monster_df)) * 100\n",
    "\n",
    "# Velma\n",
    "velma_captured_real = real_monster_df['caught_velma'].sum()\n",
    "velma_real_rate = (velma_captured_real / len(real_monster_df)) * 100\n",
    "\n",
    "# Shaggy\n",
    "shaggy_captured_real = real_monster_df['caught_shaggy'].sum()\n",
    "shaggy_real_rate = (shaggy_captured_real / len(real_monster_df)) * 100\n",
    "\n",
    "#Scooby\n",
    "scooby_captured_real = real_monster_df['caught_scooby'].sum()\n",
    "scooby_real_rate = (scooby_captured_real / len(real_monster_df)) * 100"
   ]
  },
  {
   "cell_type": "code",
   "execution_count": 163,
   "id": "758d2d5c-a05c-47fd-b2f2-a22faffdd966",
   "metadata": {},
   "outputs": [],
   "source": [
    "# collapse_show\n",
    "\n",
    "# Fred\n",
    "fred_captured_fake = fake_monster_df['caught_fred'].sum()\n",
    "fred_fake_rate = (fred_captured_fake / len(fake_monster_df)) * 100\n",
    "\n",
    "# Daphne\n",
    "daphne_captured_fake = fake_monster_df['caught_daphnie'].sum()\n",
    "daphne_fake_rate = (daphne_captured_fake / len(fake_monster_df)) * 100\n",
    "\n",
    "# Velma\n",
    "velma_captured_fake = fake_monster_df['caught_velma'].sum()\n",
    "velma_fake_rate = (velma_captured_fake / len(fake_monster_df)) * 100\n",
    "\n",
    "# Shaggy\n",
    "shaggy_captured_fake = fake_monster_df['caught_shaggy'].sum()\n",
    "shaggy_fake_rate = (shaggy_captured_fake / len(fake_monster_df)) * 100\n",
    "\n",
    "#Scooby\n",
    "scooby_captured_fake = fake_monster_df['caught_scooby'].sum()\n",
    "scooby_fake_rate = (scooby_captured_fake / len(fake_monster_df)) * 100"
   ]
  },
  {
   "cell_type": "code",
   "execution_count": 164,
   "id": "226e2402-6c98-441e-a9aa-e8c270bf780a",
   "metadata": {},
   "outputs": [
    {
     "data": {
      "image/png": "[encoded data removed]",
      "text/plain": [
       "<Figure size 432x288 with 1 Axes>"
      ]
     },
     "metadata": {},
     "output_type": "display_data"
    }
   ],
   "source": [
    "#collapse_show\n",
    "\n",
    "## Plotting Rate of Capturing Real Monsters\n",
    "\n",
    "real_rates = np.array([fred_real_rate, daphne_real_rate, velma_real_rate, shaggy_real_rate, scooby_real_rate])\n",
    "plt.pie(real_rates)\n",
    "plt.legend(labels = the_gang, loc = 'best')\n",
    "plt.title('Rate of Successful Real Monster Captures')\n",
    "plt.show()"
   ]
  },
  {
   "cell_type": "code",
   "execution_count": 165,
   "id": "2933ecf0-ff8b-4a14-b0fd-12a70dce9049",
   "metadata": {},
   "outputs": [
    {
     "data": {
      "image/png": "[encoded data removed]",
      "text/plain": [
       "<Figure size 432x288 with 1 Axes>"
      ]
     },
     "metadata": {},
     "output_type": "display_data"
    }
   ],
   "source": [
    "#collapse_show\n",
    "\n",
    "## Plotting Rate of Capturing Fake Monsters\n",
    "\n",
    "fake_rates = np.array([fred_fake_rate, daphne_fake_rate, velma_fake_rate, shaggy_fake_rate, scooby_fake_rate])\n",
    "plt.pie(fake_rates, autopct='%1.1f%%')\n",
    "plt.legend(labels = the_gang, loc = 'best')\n",
    "plt.title('Rate of Successful Fake Monster Captures')\n",
    "plt.show()"
   ]
  },
  {
   "cell_type": "markdown",
   "id": "176e296c-f5a6-4d93-b207-4792ef3be35e",
   "metadata": {},
   "source": [
    "According to our pie plots, Fred appears to be the most successful at capturing Fake Monsters, while Scooby Doo appears to have the highest successful capture rate of Real Monsters & Fake Monsters. More importantly, it appears that Daphne & Velmna have no success in capturing Real monsters. This information brings us one step further to answering our research question. "
   ]
  },
  {
   "cell_type": "markdown",
   "id": "221fe69a-d088-49ce-8790-263dce857b53",
   "metadata": {},
   "source": [
    "#### Determining the Number of Snacks each Gang member has consumed vs. the Number of Monsters they've captured "
   ]
  },
  {
   "cell_type": "code",
   "execution_count": 214,
   "id": "4d792a78-4c2a-44cd-a909-bd27a339af3f",
   "metadata": {},
   "outputs": [
    {
     "data": {
      "text/plain": [
       "Text(0.5, 1.0, 'Number of Monsters Captured vs. Number of Scooby Snacks Consumed')"
      ]
     },
     "execution_count": 214,
     "metadata": {},
     "output_type": "execute_result"
    },
    {
     "data": {
      "image/png": "[encoded data removed]",
      "text/plain": [
       "<Figure size 576x432 with 1 Axes>"
      ]
     },
     "metadata": {
      "needs_background": "light"
     },
     "output_type": "display_data"
    }
   ],
   "source": [
    "#collapse_show\n",
    "\n",
    "# Total Number of Monster Captures of Each Gang Member\n",
    "monster_captures = np.asarray([fred_captured_fake + fred_captured_real, daphne_captured_fake + daphne_captured_real, velma_captured_fake + velma_captured_real, shaggy_captured_fake + shaggy_captured_real, scooby_captured_fake + scooby_captured_real])\n",
    "snackies = np.asarray(snack_consumption)\n",
    "\n",
    "# Plotting\n",
    "plt.figure(figsize = (8,6))\n",
    "colors = np.array(['blue', 'orange', 'green', 'red', 'purple'])\n",
    "categories = np.array([0, 1, 2, 3, 4])\n",
    "blue_patch = mpatches.Patch(color = 'blue', label = 'Fred')\n",
    "orange_patch =  mpatches.Patch(color = 'orange', label = 'Daphne')\n",
    "green_patch = mpatches.Patch(color = 'green', label = 'Velma')\n",
    "red_patch = mpatches.Patch(color = 'red', label = 'Shaggy')\n",
    "purple_patch = mpatches.Patch(color = 'purple', label = 'Scooby')\n",
    "scatter = plt.scatter(snack_consumption, monster_captures, s= monster_captures * 10, c = colors[categories], cmap = colors)\n",
    "plt.xlabel('Number of Snacks Consumed')\n",
    "plt.legend(handles = [blue_patch, orange_patch, green_patch, red_patch, purple_patch])\n",
    "plt.ylabel('Number of Monsters Captured')\n",
    "plt.title('Number of Monsters Captured vs. Number of Scooby Snacks Consumed')\n"
   ]
  },
  {
   "cell_type": "markdown",
   "id": "6349378b-c661-4130-934f-28a51b2ed79c",
   "metadata": {},
   "source": [
    "This graph represents the correlation between Scooby Snacks consumed and the Number of Monsters captured. It appears that the more Scooby Snacks consumed, the lower the number of monsters captured. Daphne, who consumed the most Scooby Snacks appears to have caught the lowest number of monsters. Alternatively, Scooby-Doo who has consumed the least amount of Scooby Snacks has caught the most number of monsters. One outlier we have is Shaggy: who has consumed the second most number of Scooby-Snacks is 3rd highest in capturing Monsters. We evaluate these results in the next section."
   ]
  },
  {
   "cell_type": "markdown",
   "id": "78819b39-6922-4ca5-84cd-d63c6213f606",
   "metadata": {},
   "source": [
    "## Discussion"
   ]
  },
  {
   "cell_type": "markdown",
   "id": "ba863133-d87a-4325-9bd1-c5f643b610e2",
   "metadata": {},
   "source": [
    "This section discusses a summary of our findings and answers our research question. To reiterate, our research question is: Who is the strongest and weakest link among the Gang members of Scooby-Doo? Below is a summary of our analysis."
   ]
  },
  {
   "cell_type": "markdown",
   "id": "a8ec91af-d871-4a4c-b8d6-18681e7fbe17",
   "metadata": {},
   "source": [
    "#### Who captures the most monsters, real and fake? Who captures the least?"
   ]
  },
  {
   "cell_type": "markdown",
   "id": "a6f0dfae-9693-4048-b82b-2d597e578006",
   "metadata": {},
   "source": [
    "- Scooby-Doo appears to have the highest successful capture rate of monsters, both real and fake. \n",
    "- Daphne & Velma have the lowest success rate in capturing Real Monsters. \n",
    "- Daphne has the lowest success rate in capturing Fake Monsters. "
   ]
  },
  {
   "cell_type": "markdown",
   "id": "6c4fe0f8-c661-4327-ab77-0fb3d37c4f69",
   "metadata": {},
   "source": [
    "#### Who gets abducted the most by real and fake monsters? Who gets abducted the least?"
   ]
  },
  {
   "cell_type": "markdown",
   "id": "19e36194-342e-4290-93dc-db17dd13b2ef",
   "metadata": {},
   "source": [
    "- Daphne appears to get abducted the most by fake monsters. Velma gets abducted the least by fake monsters. \n",
    "- Scooby-Doo appears to get abducted the most by real monsters. Velma & Fred get abducted the least by real monsters. "
   ]
  },
  {
   "cell_type": "markdown",
   "id": "b0df5fc6-924e-4b27-8bc4-0aa57c46e76b",
   "metadata": {},
   "source": [
    "#### Who eats the most Scooby-Snacks? The least?"
   ]
  },
  {
   "cell_type": "markdown",
   "id": "164e0636-c111-4257-a0bb-16174e88e4be",
   "metadata": {},
   "source": [
    "- Daphne eats the most Scooby-Snacks. \n",
    "- Scooby-Doo eats the least amount of Scooby-Snacks. "
   ]
  },
  {
   "cell_type": "markdown",
   "id": "e7be3f6a-5588-4c59-9d30-f2269a284a40",
   "metadata": {},
   "source": [
    "#### Does Scooby-Snack consumption improve Monster capture capabilities?"
   ]
  },
  {
   "cell_type": "markdown",
   "id": "35dfb185-9e31-4014-ae79-cfa409733c0a",
   "metadata": {},
   "source": [
    "Our results may require further research. It appears that the more Scooby Snacks one consumes, the worse their ability is to capture monsters. Daphne who has eaten the most number of Scooby Snacks has the lowest monster capture rate. While, Scooby-Doo who has eaten the least amount of Scooby Snacks has the highest monster capture rate. However one outlier we have is Shaggy, who is the 3rd best at capturing monsters but is the 2nd person that consumes the most number of Scooby Snacks. Thus, our results for this question are undetermined because Shaggy could be a special case or Scooby Snack consumption has no effect on each gang member's capabilities. A more in-depth analysis of this question may be required in order to definitively determine whether Scooby Snack consumption improves or worsens capture abilities. "
   ]
  },
  {
   "cell_type": "markdown",
   "id": "d586cefe-76b6-45f4-93af-faf8a86c7785",
   "metadata": {},
   "source": [
    "Using these findings from our analysis, we are able to answer our research question. "
   ]
  },
  {
   "cell_type": "markdown",
   "id": "fa81b4aa-a93d-48a8-9c98-f7bfe83e24d5",
   "metadata": {},
   "source": [
    "### Who is the strongest link among the Gang members of Scooby-Doo? Who is the weakest link? "
   ]
  },
  {
   "cell_type": "markdown",
   "id": "803cba2a-df1e-4690-b4f3-da407ebd4e08",
   "metadata": {},
   "source": [
    "- Strongest Link: Scooby-Doo\n",
    "- Weakest Link: Daphne"
   ]
  },
  {
   "cell_type": "markdown",
   "id": "98ab7f65-80fd-433c-a911-2cf0ea86a432",
   "metadata": {},
   "source": [
    "Taking real and fake monsters into consideration, we make the assumption that real monsters are more difficult to capture due to their supernatural abilities. Thus, we make the conclusion that Scooby-Doo is the strongest link among the gang members. Even though he gets abducted the most by real monsters, he has the highest capture rate for both real and fake monsters. Meaning that someway, somehow, Scooby-Doo is either extremely lucky or very powerful for subduing both powerful & formidable real monsters, and fake monsters disguised as humans as well. Alternatively, we conclude that Daphne is the weakest link among the Gang members. Daphne captures the least amount of both fake and real monsters, and gets abducted the most by less powerful fake monsters. "
   ]
  },
  {
   "cell_type": "markdown",
   "id": "69ae3e16-0a58-4291-bf21-7ee6041bde46",
   "metadata": {},
   "source": [
    "Fan opinions may differ, but these are the results we come to based on our data. Further research may be required in order to determine why 'Danger Prone Daphne' is an easy target for fake monsters and how Scooby-Snacks affect monster capture rates. Many fans of the series also know that Scooby-Doo has an affinity for attracting real monsters & solving mysteries, but further research may also be conducted in order to determine the reasons behind his luck/unluckiness. This is just another mystery that we have on our hands. "
   ]
  }
 ],
 "metadata": {
  "kernelspec": {
   "display_name": "Python 3 (ipykernel)",
   "language": "python",
   "name": "python3"
  },
  "language_info": {
   "codemirror_mode": {
    "name": "ipython",
    "version": 3
   },
   "file_extension": ".py",
   "mimetype": "text/x-python",
   "name": "python",
   "nbconvert_exporter": "python",
   "pygments_lexer": "ipython3",
   "version": "3.9.6"
  }
 },
 "nbformat": 4,
 "nbformat_minor": 5
}
